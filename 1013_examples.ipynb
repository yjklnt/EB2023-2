{
  "nbformat": 4,
  "nbformat_minor": 0,
  "metadata": {
    "colab": {
      "provenance": [],
      "include_colab_link": true
    },
    "kernelspec": {
      "name": "python3",
      "display_name": "Python 3"
    },
    "language_info": {
      "name": "python"
    }
  },
  "cells": [
    {
      "cell_type": "markdown",
      "metadata": {
        "id": "view-in-github",
        "colab_type": "text"
      },
      "source": [
        "<a href=\"https://colab.research.google.com/github/yjklnt/EB2023-2/blob/main/1013_examples.ipynb\" target=\"_parent\"><img src=\"https://colab.research.google.com/assets/colab-badge.svg\" alt=\"Open In Colab\"/></a>"
      ]
    },
    {
      "cell_type": "code",
      "execution_count": null,
      "metadata": {
        "colab": {
          "base_uri": "https://localhost:8080/"
        },
        "id": "FQunrvsJjSO8",
        "outputId": "7678d457-beb7-4207-8140-0ef0c4649660"
      },
      "outputs": [
        {
          "output_type": "stream",
          "name": "stdout",
          "text": [
            "Analyzing pollution level: 60\n",
            "Analyzing pollution level: 70\n",
            "Analyzing pollution level: 80\n",
            "Analyzing pollution level: 90\n",
            "Analyzing pollution level: 100\n",
            "Analyzing pollution level: 110\n",
            "Unacceptable pollution level.\n",
            "GO inside!\n"
          ]
        }
      ],
      "source": [
        "for i in range (60, 111, 10):\n",
        "  pollution_level = i\n",
        "  print(f\"Analyzing pollution level: {pollution_level}\")\n",
        "\n",
        "if pollution_level <= 80:\n",
        "  print(\"Pollution level is acceptable.\")\n",
        "  print(\"Go outside!\")\n",
        "\n",
        "elif pollution_level <= 100:\n",
        "  print(\"Pollution level is acceptable.\")\n",
        "  print(\"Go outside!\")\n",
        "  pass\n",
        "\n",
        "else:\n",
        "  print(\"Unacceptable pollution level.\")\n",
        "  print(\"GO inside!\")\n"
      ]
    },
    {
      "cell_type": "code",
      "source": [
        "pollution_levels = [60, 80, 100, 120, 140]\n",
        "\n",
        "for p in pollution_levels:\n",
        "    print(f\"Analyzing pollution level: {p}\")\n",
        "\n",
        "    if p <= 100:\n",
        "        print(\"Pollution level is acceptable.\")\n",
        "        print(\"Go outside!\")\n",
        "    else:\n",
        "        print(\"Unacceptable pollution level.\")\n",
        "        print()\n",
        "        continue\n",
        "\n",
        "    print(\"The pollution level is under processing.\")\n",
        "    print()\n"
      ],
      "metadata": {
        "colab": {
          "base_uri": "https://localhost:8080/"
        },
        "id": "PcRyXYjFmFcc",
        "outputId": "f3ef5841-4880-410c-c589-20891c715cd4"
      },
      "execution_count": null,
      "outputs": [
        {
          "output_type": "stream",
          "name": "stdout",
          "text": [
            "Analyzing pollution level: 60\n",
            "Pollution level is acceptable.\n",
            "Go outside!\n",
            "The pollution level is under processing.\n",
            "\n",
            "Analyzing pollution level: 80\n",
            "Pollution level is acceptable.\n",
            "Go outside!\n",
            "The pollution level is under processing.\n",
            "\n",
            "Analyzing pollution level: 100\n",
            "Pollution level is acceptable.\n",
            "Go outside!\n",
            "The pollution level is under processing.\n",
            "\n",
            "Analyzing pollution level: 120\n",
            "Unacceptable pollution level.\n",
            "\n",
            "Analyzing pollution level: 140\n",
            "Unacceptable pollution level.\n",
            "\n"
          ]
        }
      ]
    },
    {
      "cell_type": "code",
      "source": [
        "v = 0\n",
        "while v < 21:\n",
        "    if v == 12:\n",
        "      v += 2\n",
        "      continue\n",
        "    print(v, end=\" \")\n",
        "    v += 2\n"
      ],
      "metadata": {
        "colab": {
          "base_uri": "https://localhost:8080/"
        },
        "id": "ulkn2WEtqMYJ",
        "outputId": "a925381a-b73b-4fdc-cf21-e96126bcb956"
      },
      "execution_count": null,
      "outputs": [
        {
          "output_type": "stream",
          "name": "stdout",
          "text": [
            "0 2 4 6 8 10 14 16 18 20 "
          ]
        }
      ]
    },
    {
      "cell_type": "code",
      "source": [
        "v = 0\n",
        "while v < 21:\n",
        "    if v == 12:\n",
        "      v += 2\n",
        "      pass\n",
        "    print(v, end=\" \")\n",
        "    v += 2\n"
      ],
      "metadata": {
        "colab": {
          "base_uri": "https://localhost:8080/"
        },
        "id": "F-ODXHu7qQGx",
        "outputId": "110085de-05eb-41ab-bff5-2f3749346eff"
      },
      "execution_count": null,
      "outputs": [
        {
          "output_type": "stream",
          "name": "stdout",
          "text": [
            "0 2 4 6 8 10 14 16 18 20 "
          ]
        }
      ]
    }
  ]
}