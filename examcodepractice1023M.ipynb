{
  "nbformat": 4,
  "nbformat_minor": 0,
  "metadata": {
    "colab": {
      "provenance": []
    },
    "kernelspec": {
      "name": "python3",
      "display_name": "Python 3"
    },
    "language_info": {
      "name": "python"
    }
  },
  "cells": [
    {
      "cell_type": "markdown",
      "source": [
        "Q6."
      ],
      "metadata": {
        "id": "Qtg7SvwItYUa"
      }
    },
    {
      "cell_type": "code",
      "source": [
        "windspeed = float(input('풍속입력 (m/s): '))\n",
        "print('입력된 풍속 (m/s)은 %d' % windspeed)"
      ],
      "metadata": {
        "id": "oGspELR4tYEj"
      },
      "execution_count": null,
      "outputs": []
    },
    {
      "cell_type": "markdown",
      "source": [
        "Q6(1), (4)"
      ],
      "metadata": {
        "id": "XPCeKsz8tx1i"
      }
    },
    {
      "cell_type": "code",
      "source": [
        "windspeed = input('풍속입력 (m/s): ')\n",
        "print('입력된 풍속 (m/s)은 %d' % windspeed)"
      ],
      "metadata": {
        "id": "pKk8-aAHtmQT"
      },
      "execution_count": null,
      "outputs": []
    },
    {
      "cell_type": "markdown",
      "source": [
        "Q6(2)"
      ],
      "metadata": {
        "id": "WLz1MFs4t67I"
      }
    },
    {
      "cell_type": "code",
      "source": [
        "windspeed = float(input('풍속입력 (m/s): '))\n",
        "print('입력된 풍속 (m/s)은 %d' % windspeed)"
      ],
      "metadata": {
        "id": "Nw5mqrMat1iI"
      },
      "execution_count": null,
      "outputs": []
    },
    {
      "cell_type": "markdown",
      "source": [
        "Q7."
      ],
      "metadata": {
        "id": "h2fbIoY9uKOZ"
      }
    },
    {
      "cell_type": "code",
      "source": [
        "type(True)"
      ],
      "metadata": {
        "id": "sBLO72i7uNvY"
      },
      "execution_count": null,
      "outputs": []
    },
    {
      "cell_type": "code",
      "source": [
        "type(\"True\")"
      ],
      "metadata": {
        "id": "ChB6OCpWuJoO"
      },
      "execution_count": null,
      "outputs": []
    },
    {
      "cell_type": "code",
      "source": [
        "type(false)"
      ],
      "metadata": {
        "id": "S817JZjruWxv"
      },
      "execution_count": null,
      "outputs": []
    },
    {
      "cell_type": "markdown",
      "source": [
        "Q9. Original Code"
      ],
      "metadata": {
        "id": "UuaAfDyG7074"
      }
    },
    {
      "cell_type": "code",
      "execution_count": null,
      "metadata": {
        "id": "DQkA-HQf5CLH"
      },
      "outputs": [],
      "source": [
        "\n",
        "sensor_data = [\n",
        "    {\"location\": \"Seonsor A\", \"value\":15, \"status\": \"normal\"},\n",
        "    {\"location\": \"Seonsor B\", \"value\":-10, \"status\": \"paused\"},\n",
        "    {\"location\": \"Seonsor C\", \"value\":-5, \"status\": \"paused\"}\n",
        "\n",
        "]\n",
        "\n",
        "for sensor in sensor_data:\n",
        "    print(f\"Processing data from {sensor['location']}\")\n",
        "\n",
        "    if sensor[\"status\"] != \"normal\":\n",
        "        print(\"Processing paused for this sensor\")\n",
        "        pass\n",
        "\n",
        "\n",
        "    value = sensor[\"value\"]\n",
        "    if value > 0:\n",
        "      print(f\"Processing value: {value}\")\n",
        "\n",
        "    else:\n",
        "      print(f\"Ignoring negative value: {value}\")\n",
        "\n",
        "    print(\"\\n\")\n"
      ]
    },
    {
      "cell_type": "markdown",
      "source": [
        "Q9-(2)"
      ],
      "metadata": {
        "id": "EdRFE52M7_IP"
      }
    },
    {
      "cell_type": "code",
      "source": [
        "#8:07 시작 #8:11 마침\n",
        "\n",
        "sensor_data = [\n",
        "    {\"location\": \"Seonsor A\", \"value\":15, \"status\": \"normal\"},\n",
        "    {\"location\": \"Seonsor B\", \"value\":-10, \"status\": \"paused\"},\n",
        "    {\"location\": \"Seonsor C\", \"value\":-5, \"status\": \"paused\"}\n",
        "\n",
        "]\n",
        "\n",
        "for sensor in sensor_data:\n",
        "    print(f\"Processing data from {sensor['location']}\")\n",
        "\n",
        "    if sensor[\"status\"] == \"paused\":\n",
        "        print(\"Processing paused for this sensor\")\n",
        "        pass\n",
        "\n",
        "\n",
        "    value = sensor[\"value\"]\n",
        "    if value > 0:\n",
        "      print(f\"Processing value: {value}\")\n",
        "\n",
        "    else:\n",
        "      print(f\"Ignoring negative value: {value}\")\n",
        "\n",
        "    print(\"\\n\")\n"
      ],
      "metadata": {
        "colab": {
          "base_uri": "https://localhost:8080/"
        },
        "id": "4xsLVgf876KI",
        "outputId": "696ad4c0-14ab-4cb4-f498-2cc03af68f91"
      },
      "execution_count": null,
      "outputs": [
        {
          "output_type": "stream",
          "name": "stdout",
          "text": [
            "Processing data from Seonsor A\n",
            "Processing value: 15\n",
            "\n",
            "\n",
            "Processing data from Seonsor B\n",
            "Processing paused for this sensor\n",
            "Ignoring negative value: -10\n",
            "\n",
            "\n",
            "Processing data from Seonsor C\n",
            "Processing paused for this sensor\n",
            "Ignoring negative value: -5\n",
            "\n",
            "\n"
          ]
        }
      ]
    },
    {
      "cell_type": "markdown",
      "source": [
        "Q9-(4), (5)"
      ],
      "metadata": {
        "id": "TYLZZvQV8GHw"
      }
    },
    {
      "cell_type": "code",
      "source": [
        "#8:07 시작 #8:11 마침\n",
        "\n",
        "sensor_data = [\n",
        "    {\"location\": \"Seonsor A\", \"value\":15, \"status\": \"normal\"},\n",
        "    {\"location\": \"Seonsor B\", \"value\":-10, \"status\": \"paused\"},\n",
        "    {\"location\": \"Seonsor C\", \"value\":-5, \"status\": \"paused\"}\n",
        "\n",
        "]\n",
        "\n",
        "for sensor in sensor_data:\n",
        "    print(f\"Processing data from {sensor['location']}\")\n",
        "\n",
        "    if sensor[\"status\"] == \"paused\":\n",
        "        print(\"Processing paused for this sensor\")\n",
        "        continue\n",
        "\n",
        "\n",
        "    value = sensor[\"value\"]\n",
        "    if value > 0:\n",
        "      print(f\"Processing value: {value}\")\n",
        "\n",
        "    else:\n",
        "      print(f\"Ignoring negative value: {value}\")\n",
        "\n",
        "    print(\"\\n\")\n"
      ],
      "metadata": {
        "id": "lmeS5BOQ8IV2"
      },
      "execution_count": null,
      "outputs": []
    },
    {
      "cell_type": "markdown",
      "source": [
        "Q-9 (6)"
      ],
      "metadata": {
        "id": "5Uq7_MgT8WIl"
      }
    },
    {
      "cell_type": "code",
      "source": [
        "sensor_data = [\n",
        "    {\"location\": \"Seonsor A\", \"value\":15, \"status\": \"normal\"},\n",
        "    {\"location\": \"Seonsor B\", \"value\":-10, \"status\": \"paused\"},\n",
        "    {\"location\": \"Seonsor C\", \"value\":-5, \"status\": \"paused\"}\n",
        "\n",
        "]\n",
        "\n",
        "for sensor in sensor_data:\n",
        "    print(f\"Processing data from {sensor['location']}\")\n",
        "\n",
        "    if sensor[\"status\"] != \"normal\":\n",
        "        print(\"Processing paused for this sensor\")\n",
        "        pass\n",
        "\n",
        "\n",
        "    value == sensor[\"value\"] #\"valye\" 값을 딕셔너리 제일 마지막줄에서 지정한 \"value\":-5 로 업데이트한 후 유지.\n",
        "    if value > 0:\n",
        "      print(f\"Processing value: {value}\")\n",
        "\n",
        "    else:\n",
        "      print(f\"Ignoring negative value: {value}\")\n",
        "\n",
        "    print(\"\\n\")\n"
      ],
      "metadata": {
        "id": "tF6a_inz8U7V"
      },
      "execution_count": null,
      "outputs": []
    },
    {
      "cell_type": "markdown",
      "source": [
        "Q11-12"
      ],
      "metadata": {
        "id": "t_BKq48L_8NE"
      }
    },
    {
      "cell_type": "code",
      "source": [
        "pollution_levels = [60, 80, 100, 120, 140]\n",
        "wind_speed = 25\n",
        "\n",
        "i = 0\n",
        "while i < len(pollution_levels):\n",
        "    p = pollution_levels[i]\n",
        "    print(f\"Analyzing pollution level: {p}\")\n",
        "\n",
        "    if wind_speed < 30:\n",
        "        if p <= 100:\n",
        "            print(\"Pollution level is acceptable\")\n",
        "            print(\"Go outside!\")\n",
        "\n",
        "        else:\n",
        "            print(\"Unacceptable pollution level.\")\n",
        "\n",
        "    else:\n",
        "        print(\"Wind speed is too high. Skipping analysis.\")\n",
        "        i += 1\n",
        "        continue\n",
        "\n",
        "    print(\"The pollution level is under processing.\")\n",
        "    print()\n",
        "\n",
        "    i += 1"
      ],
      "metadata": {
        "id": "3Pl4zMLY-mg4"
      },
      "execution_count": null,
      "outputs": []
    },
    {
      "cell_type": "markdown",
      "source": [
        "wind_speed >30"
      ],
      "metadata": {
        "id": "OzYdrLMbvG6p"
      }
    },
    {
      "cell_type": "code",
      "source": [
        "pollution_levels = [60, 80, 100, 120, 140]\n",
        "wind_speed = 50\n",
        "\n",
        "i = 0\n",
        "while i < len(pollution_levels):\n",
        "    p = pollution_levels[i]\n",
        "    print(f\"Analyzing pollution level: {p}\")\n",
        "\n",
        "    if wind_speed < 30:\n",
        "        if p <= 100:\n",
        "            print(\"Pollution level is acceptable\")\n",
        "            print(\"Go outside!\")\n",
        "\n",
        "        else:\n",
        "            print(\"Unacceptable pollution level.\")\n",
        "\n",
        "    else:\n",
        "        print(\"Wind speed is too high. Skipping analysis.\")\n",
        "        i += 1\n",
        "        continue\n",
        "\n",
        "    print(\"The pollution level is under processing.\")\n",
        "    print()\n",
        "\n",
        "    i += 1"
      ],
      "metadata": {
        "colab": {
          "base_uri": "https://localhost:8080/"
        },
        "id": "24bIwEfn__Sc",
        "outputId": "f71877fd-0ffb-4d24-e8da-f246a9a1a8d5"
      },
      "execution_count": 11,
      "outputs": [
        {
          "output_type": "stream",
          "name": "stdout",
          "text": [
            "Analyzing pollution level: 60\n",
            "Wind speed is too high. Skipping analysis.\n",
            "Analyzing pollution level: 80\n",
            "Wind speed is too high. Skipping analysis.\n",
            "Analyzing pollution level: 100\n",
            "Wind speed is too high. Skipping analysis.\n",
            "Analyzing pollution level: 120\n",
            "Wind speed is too high. Skipping analysis.\n",
            "Analyzing pollution level: 140\n",
            "Wind speed is too high. Skipping analysis.\n"
          ]
        }
      ]
    },
    {
      "cell_type": "code",
      "source": [
        "#종료 없는 코드 - 오류발생 전에 강제 종료 하도록\n",
        "\n",
        "pollution_levels = [60, 80, 100, 120, 140]\n",
        "wind_speed = 25\n",
        "\n",
        "i = 0\n",
        "while i < len(pollution_levels):\n",
        "    p = pollution_levels[i]\n",
        "    print(f\"Analyzing pollution level: {p}\")\n",
        "\n",
        "    if wind_speed < 30:\n",
        "        if p <= 100:\n",
        "            print(\"Pollution level is acceptable\")\n",
        "            print(\"Go outside!\")\n",
        "\n",
        "        else:\n",
        "            print(\"Unacceptable pollution level.\")\n",
        "\n",
        "    else:\n",
        "        print(\"Wind speed is too high. Skipping analysis.\")\n",
        "        i += 1\n",
        "        continue\n",
        "\n",
        "    print(\"The pollution level is under processing.\")\n",
        "    print()\n",
        "\n",
        "#제일 마지막 i +=1 삭제\n"
      ],
      "metadata": {
        "id": "mGIP0H45AZQB"
      },
      "execution_count": null,
      "outputs": []
    },
    {
      "cell_type": "code",
      "source": [
        "pollution_levels = [60, 80, 100, 120, 140]\n",
        "wind_speed = 50 #수정사항\n",
        "\n",
        "i = 0\n",
        "while i < len(pollution_levels):\n",
        "    p = pollution_levels[i]\n",
        "    print(f\"Analyzing pollution level: {p}\")\n",
        "\n",
        "    if wind_speed < 30:\n",
        "        if p <= 100:\n",
        "            print(\"Pollution level is acceptable\")\n",
        "            print(\"Go outside!\")\n",
        "\n",
        "        else:\n",
        "            print(\"Unacceptable pollution level.\")\n",
        "\n",
        "    else:\n",
        "        print(\"Wind speed is too high. Skipping analysis.\")\n",
        "        print() #수정사항\n",
        "        i += 1\n",
        "        continue\n",
        "\n",
        "    print(\"The pollution level is under processing.\")\n",
        "    print()\n",
        "\n",
        "    i += 1"
      ],
      "metadata": {
        "colab": {
          "base_uri": "https://localhost:8080/"
        },
        "id": "3mw4HUsLA39y",
        "outputId": "67137039-0600-4449-8517-bd8a31b8c749"
      },
      "execution_count": null,
      "outputs": [
        {
          "output_type": "stream",
          "name": "stdout",
          "text": [
            "Analyzing pollution level: 60\n",
            "Wind speed is too high. Skipping analysis.\n",
            "\n",
            "Analyzing pollution level: 80\n",
            "Wind speed is too high. Skipping analysis.\n",
            "\n",
            "Analyzing pollution level: 100\n",
            "Wind speed is too high. Skipping analysis.\n",
            "\n",
            "Analyzing pollution level: 120\n",
            "Wind speed is too high. Skipping analysis.\n",
            "\n",
            "Analyzing pollution level: 140\n",
            "Wind speed is too high. Skipping analysis.\n",
            "\n"
          ]
        }
      ]
    }
  ]
}